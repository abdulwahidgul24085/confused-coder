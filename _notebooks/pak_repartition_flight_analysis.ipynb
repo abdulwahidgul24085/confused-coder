{
 "cells": [
  {
   "cell_type": "markdown",
   "metadata": {},
   "source": [
    "# Flights Analysis\n",
    "> Analysis the flights scheduled and completed in the repartition process\n",
    "\n",
    "- toc: true \n",
    "- badges: true\n",
    "- comments: true\n",
    "- categories: [jupyter, python, analytics]"
   ]
  },
  {
   "cell_type": "markdown",
   "metadata": {},
   "source": [
    "# Introduction\n",
    "This notebook will dive into how is the repatition efforts being cared out by Pakistan. Since a lot of people are stuck aboard, and I am one of them. I want to find any biases base on part of paritcular city, or province. Also, we heard everyday on the media that X amount of people has been taken back home. This post will provid you a breakdown and the history, from where did we have most of the flight flown from, and which city received most the flight.\n",
    "\n",
    "If you want to play with the data. It is available for down from the following link\n",
    "1. [Pakistan](https://github.com/abdulwahidgul24085/confused-coder/blob/master/data/pak_repartition_flight/pakistan.csv)\n",
    "2. [scheduled](https://github.com/abdulwahidgul24085/confused-coder/blob/master/data/pak_repartition_flight/schedule.csv)\n",
    "3. [completed](https://github.com/abdulwahidgul24085/confused-coder/blob/master/data/pak_repartition_flight/completed.csv)"
   ]
  }
 ],
 "metadata": {
  "kernelspec": {
   "display_name": "Python 3",
   "language": "python",
   "name": "python3"
  },
  "language_info": {
   "codemirror_mode": {
    "name": "ipython",
    "version": 3
   },
   "file_extension": ".py",
   "mimetype": "text/x-python",
   "name": "python",
   "nbconvert_exporter": "python",
   "pygments_lexer": "ipython3",
   "version": "3.8.2"
  }
 },
 "nbformat": 4,
 "nbformat_minor": 4
}
