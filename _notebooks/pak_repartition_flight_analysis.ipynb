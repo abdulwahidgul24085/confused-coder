{
 "cells": [
  {
   "cell_type": "markdown",
   "metadata": {},
   "source": [
    "# Flights Analysis\n",
    "> Analysis the flights scheduled and completed in the repartition process\n",
    "\n",
    "- toc: true \n",
    "- badges: true\n",
    "- comments: true\n",
    "- categories: [jupyter, python, analytics]"
   ]
  },
  {
   "cell_type": "markdown",
   "metadata": {},
   "source": [
    "# Introduction\n",
    "This notebook will dive into how is the repatition efforts being cared out by Pakistan. Since a lot of people are stuck aboard, and I am one of them. I want to find any biases base on part of paritcular city, or province. Also, we heard everyday on the media that X amount of people has been taken back home. This post will provid you a breakdown and the history, from where did we have most of the flight flown from, and which city received most the flight.\n",
    "\n",
    "If you want to play with the data. It is available for down from the following link\n",
    "1. [Pakistan](https://raw.githubusercontent.com/abdulwahidgul24085/confused-coder/master/data/pak_repartition_flight/pakistan.csv)\n",
    "2. [scheduled](https://raw.githubusercontent.com/abdulwahidgul24085/confused-coder/master/data/pak_repartition_flight/schedule.csv)\n",
    "3. [completed](https://raw.githubusercontent.com/abdulwahidgul24085/confused-coder/master/data/pak_repartition_flight/completed.csv)\n",
    "\n",
    "If you want to know how I collected all of this data, you can [check out](https://abdulwahidgul.me/jupyter/covid/flights/repartition/python/scrapper/2020/06/14/flights_scrapper.html) this post."
   ]
  },
  {
   "cell_type": "code",
   "execution_count": 5,
   "metadata": {},
   "outputs": [],
   "source": [
    "import pandas as pd\n",
    "\n",
    "completed = pd.read_csv('../data/pak_repartition_flight/completed.csv')\n",
    "schedule = pd.read_csv('../data/pak_repartition_flight/schedule.csv')\n",
    "pakistan = pd.read_csv('../data/pak_repartition_flight/pakistan.csv')"
   ]
  },
  {
   "cell_type": "markdown",
   "metadata": {},
   "source": [
    "## CSV views\n",
    "Following tags will show you what kind of data we have. This is the raw data that we have in our CSVs. Click on show code to see the data"
   ]
  },
  {
   "cell_type": "code",
   "execution_count": 13,
   "metadata": {},
   "outputs": [
    {
     "name": "stdout",
     "output_type": "stream",
     "text": [
      "(rows, columns) (31, 4)\n"
     ]
    },
    {
     "data": {
      "text/html": [
       "<div>\n",
       "<style scoped>\n",
       "    .dataframe tbody tr th:only-of-type {\n",
       "        vertical-align: middle;\n",
       "    }\n",
       "\n",
       "    .dataframe tbody tr th {\n",
       "        vertical-align: top;\n",
       "    }\n",
       "\n",
       "    .dataframe thead th {\n",
       "        text-align: right;\n",
       "    }\n",
       "</style>\n",
       "<table border=\"1\" class=\"dataframe\">\n",
       "  <thead>\n",
       "    <tr style=\"text-align: right;\">\n",
       "      <th></th>\n",
       "      <th>provice</th>\n",
       "      <th>_type</th>\n",
       "      <th>city</th>\n",
       "      <th>population</th>\n",
       "    </tr>\n",
       "  </thead>\n",
       "  <tbody>\n",
       "    <tr>\n",
       "      <th>0</th>\n",
       "      <td>Balochistan</td>\n",
       "      <td>municipalities</td>\n",
       "      <td>Quetta</td>\n",
       "      <td>1000000.0</td>\n",
       "    </tr>\n",
       "    <tr>\n",
       "      <th>1</th>\n",
       "      <td>Balochistan</td>\n",
       "      <td>municipalities</td>\n",
       "      <td>Khuzdar</td>\n",
       "      <td>148089.0</td>\n",
       "    </tr>\n",
       "    <tr>\n",
       "      <th>2</th>\n",
       "      <td>Balochistan</td>\n",
       "      <td>municipalities</td>\n",
       "      <td>Chaman</td>\n",
       "      <td>113115.0</td>\n",
       "    </tr>\n",
       "    <tr>\n",
       "      <th>3</th>\n",
       "      <td>Balochistan</td>\n",
       "      <td>municipalities</td>\n",
       "      <td>Turbat</td>\n",
       "      <td>83475.0</td>\n",
       "    </tr>\n",
       "    <tr>\n",
       "      <th>4</th>\n",
       "      <td>Balochistan</td>\n",
       "      <td>municipalities</td>\n",
       "      <td>Sibi</td>\n",
       "      <td>80767.0</td>\n",
       "    </tr>\n",
       "  </tbody>\n",
       "</table>\n",
       "</div>"
      ],
      "text/plain": [
       "       provice           _type     city  population\n",
       "0  Balochistan  municipalities  Quetta    1000000.0\n",
       "1  Balochistan  municipalities  Khuzdar    148089.0\n",
       "2  Balochistan  municipalities   Chaman    113115.0\n",
       "3  Balochistan  municipalities   Turbat     83475.0\n",
       "4  Balochistan  municipalities     Sibi     80767.0"
      ]
     },
     "execution_count": 13,
     "metadata": {},
     "output_type": "execute_result"
    }
   ],
   "source": [
    "#collapse-hide\n",
    "print(('(rows, columns)'),pakistan.shape)\n",
    "pakistan.head()"
   ]
  },
  {
   "cell_type": "code",
   "execution_count": 12,
   "metadata": {},
   "outputs": [
    {
     "name": "stdout",
     "output_type": "stream",
     "text": [
      "(rows, columns) (120, 8)\n"
     ]
    },
    {
     "data": {
      "text/html": [
       "<div>\n",
       "<style scoped>\n",
       "    .dataframe tbody tr th:only-of-type {\n",
       "        vertical-align: middle;\n",
       "    }\n",
       "\n",
       "    .dataframe tbody tr th {\n",
       "        vertical-align: top;\n",
       "    }\n",
       "\n",
       "    .dataframe thead th {\n",
       "        text-align: right;\n",
       "    }\n",
       "</style>\n",
       "<table border=\"1\" class=\"dataframe\">\n",
       "  <thead>\n",
       "    <tr style=\"text-align: right;\">\n",
       "      <th></th>\n",
       "      <th>sr_no</th>\n",
       "      <th>from_place</th>\n",
       "      <th>departure_airport</th>\n",
       "      <th>to_place</th>\n",
       "      <th>arrival_date</th>\n",
       "      <th>passengers</th>\n",
       "      <th>airline</th>\n",
       "      <th>status</th>\n",
       "    </tr>\n",
       "  </thead>\n",
       "  <tbody>\n",
       "    <tr>\n",
       "      <th>0</th>\n",
       "      <td>1</td>\n",
       "      <td>Qatar(open)</td>\n",
       "      <td>Doha</td>\n",
       "      <td>Islamabad</td>\n",
       "      <td>2020-06-10</td>\n",
       "      <td>250</td>\n",
       "      <td>QatarAirways</td>\n",
       "      <td>open</td>\n",
       "    </tr>\n",
       "    <tr>\n",
       "      <th>1</th>\n",
       "      <td>2</td>\n",
       "      <td>UAE</td>\n",
       "      <td>Lahore</td>\n",
       "      <td>Islamabad</td>\n",
       "      <td>2020-06-10</td>\n",
       "      <td>250</td>\n",
       "      <td>UAEAirline</td>\n",
       "      <td>NaN</td>\n",
       "    </tr>\n",
       "    <tr>\n",
       "      <th>2</th>\n",
       "      <td>3</td>\n",
       "      <td>Qatar(closed)</td>\n",
       "      <td>Doha</td>\n",
       "      <td>Lahore</td>\n",
       "      <td>2020-06-10</td>\n",
       "      <td>250</td>\n",
       "      <td>QatarAirways</td>\n",
       "      <td>close</td>\n",
       "    </tr>\n",
       "    <tr>\n",
       "      <th>3</th>\n",
       "      <td>4</td>\n",
       "      <td>UAE</td>\n",
       "      <td></td>\n",
       "      <td>Lahore</td>\n",
       "      <td>2020-06-10</td>\n",
       "      <td>250</td>\n",
       "      <td>PIA</td>\n",
       "      <td>NaN</td>\n",
       "    </tr>\n",
       "    <tr>\n",
       "      <th>4</th>\n",
       "      <td>5</td>\n",
       "      <td>SaudiArabia</td>\n",
       "      <td>Jeddah</td>\n",
       "      <td>Karachi</td>\n",
       "      <td>2020-06-10</td>\n",
       "      <td>250</td>\n",
       "      <td>PIA</td>\n",
       "      <td>NaN</td>\n",
       "    </tr>\n",
       "  </tbody>\n",
       "</table>\n",
       "</div>"
      ],
      "text/plain": [
       "   sr_no     from_place departure_airport   to_place arrival_date passengers  \\\n",
       "0      1    Qatar(open)              Doha  Islamabad   2020-06-10        250   \n",
       "1      2            UAE            Lahore  Islamabad   2020-06-10        250   \n",
       "2      3  Qatar(closed)              Doha     Lahore   2020-06-10        250   \n",
       "3      4            UAE                       Lahore   2020-06-10        250   \n",
       "4      5   SaudiArabia             Jeddah    Karachi   2020-06-10        250   \n",
       "\n",
       "        airline status  \n",
       "0  QatarAirways   open  \n",
       "1   UAEAirline     NaN  \n",
       "2  QatarAirways  close  \n",
       "3           PIA    NaN  \n",
       "4           PIA    NaN  "
      ]
     },
     "execution_count": 12,
     "metadata": {},
     "output_type": "execute_result"
    }
   ],
   "source": [
    "#collapse-hide\n",
    "print(('(rows, columns)'),schedule.shape)\n",
    "schedule.head()"
   ]
  },
  {
   "cell_type": "code",
   "execution_count": 11,
   "metadata": {},
   "outputs": [
    {
     "name": "stdout",
     "output_type": "stream",
     "text": [
      "(rows, columns) (321, 6)\n"
     ]
    },
    {
     "data": {
      "text/html": [
       "<div>\n",
       "<style scoped>\n",
       "    .dataframe tbody tr th:only-of-type {\n",
       "        vertical-align: middle;\n",
       "    }\n",
       "\n",
       "    .dataframe tbody tr th {\n",
       "        vertical-align: top;\n",
       "    }\n",
       "\n",
       "    .dataframe thead th {\n",
       "        text-align: right;\n",
       "    }\n",
       "</style>\n",
       "<table border=\"1\" class=\"dataframe\">\n",
       "  <thead>\n",
       "    <tr style=\"text-align: right;\">\n",
       "      <th></th>\n",
       "      <th>sr_no</th>\n",
       "      <th>from_place</th>\n",
       "      <th>to_place</th>\n",
       "      <th>_date</th>\n",
       "      <th>passengers</th>\n",
       "      <th>airline</th>\n",
       "    </tr>\n",
       "  </thead>\n",
       "  <tbody>\n",
       "    <tr>\n",
       "      <th>0</th>\n",
       "      <td>1</td>\n",
       "      <td>Istanbul</td>\n",
       "      <td>Islamabad</td>\n",
       "      <td>2020-04-03</td>\n",
       "      <td>206</td>\n",
       "      <td>PIA</td>\n",
       "    </tr>\n",
       "    <tr>\n",
       "      <th>1</th>\n",
       "      <td>2</td>\n",
       "      <td>Toronto</td>\n",
       "      <td>Islamabad</td>\n",
       "      <td>2020-04-04</td>\n",
       "      <td>162</td>\n",
       "      <td>PIA</td>\n",
       "    </tr>\n",
       "    <tr>\n",
       "      <th>2</th>\n",
       "      <td>3</td>\n",
       "      <td>Birmingham</td>\n",
       "      <td>Islamabad</td>\n",
       "      <td>2020-04-06</td>\n",
       "      <td>132</td>\n",
       "      <td>PIA</td>\n",
       "    </tr>\n",
       "    <tr>\n",
       "      <th>3</th>\n",
       "      <td>4</td>\n",
       "      <td>Tashkent</td>\n",
       "      <td>Islamabad</td>\n",
       "      <td>2020-04-06</td>\n",
       "      <td>130</td>\n",
       "      <td>PIA</td>\n",
       "    </tr>\n",
       "    <tr>\n",
       "      <th>4</th>\n",
       "      <td>5</td>\n",
       "      <td>Manchester</td>\n",
       "      <td>Islamabad</td>\n",
       "      <td>2020-04-09</td>\n",
       "      <td>78</td>\n",
       "      <td>PIA</td>\n",
       "    </tr>\n",
       "  </tbody>\n",
       "</table>\n",
       "</div>"
      ],
      "text/plain": [
       "   sr_no  from_place   to_place       _date  passengers airline\n",
       "0      1    Istanbul  Islamabad  2020-04-03         206     PIA\n",
       "1      2     Toronto  Islamabad  2020-04-04         162     PIA\n",
       "2      3  Birmingham  Islamabad  2020-04-06         132     PIA\n",
       "3      4    Tashkent  Islamabad  2020-04-06         130     PIA\n",
       "4      5  Manchester  Islamabad  2020-04-09          78     PIA"
      ]
     },
     "execution_count": 11,
     "metadata": {},
     "output_type": "execute_result"
    }
   ],
   "source": [
    "#collapse-hide\n",
    "print(('(rows, columns)'),completed.shape)\n",
    "completed.head()"
   ]
  }
 ],
 "metadata": {
  "kernelspec": {
   "display_name": "Python 3",
   "language": "python",
   "name": "python3"
  },
  "language_info": {
   "codemirror_mode": {
    "name": "ipython",
    "version": 3
   },
   "file_extension": ".py",
   "mimetype": "text/x-python",
   "name": "python",
   "nbconvert_exporter": "python",
   "pygments_lexer": "ipython3",
   "version": "3.8.2"
  }
 },
 "nbformat": 4,
 "nbformat_minor": 4
}
