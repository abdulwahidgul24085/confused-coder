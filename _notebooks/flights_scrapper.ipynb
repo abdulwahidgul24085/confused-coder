{
 "cells": [
  {
   "cell_type": "markdown",
   "metadata": {},
   "source": [
    "# Scraping data from the Offical Covid Pakistan Goverment website.\n",
    "The scraper won't work since kaggle won't let request make a call for obivious reasons. But I have uploaded a data set that I scrapped on the 15-06-2020. You can get the latest version of the data till this website is live. You get a Sqlite3 database with 2 table.\n",
    "\n",
    "1. schedule.\n",
    "2. completed.\n",
    "\n",
    "## schedule flights table\n",
    "This table has all the scheduled flights depended on the latest info on the website.\n",
    "\n",
    "## completed flights table\n",
    "This table has all the information of the flights complete till that. For me that is 15-06-2020. You can run this scrapper in the future to get the latest complete flights infromations.\n",
    "\n",
    "## If you want CSV\n",
    "I have a section at the end of of this notebook, which will provide you with the CSV if you don't want the power of Sqlite, or you don't know how to use the Sqlite.\n",
    "\n",
    "## Missing\n",
    "We can motify the script to get the latest information without purging the current information. At the moment when you run the scrapper it replaces that data in the database with the latest data."
   ]
  },
  {
   "cell_type": "code",
   "execution_count": 155,
   "metadata": {},
   "outputs": [],
   "source": [
    "import pandas as pd\n",
    "import sqlite3\n",
    "import requests\n",
    "from bs4 import BeautifulSoup\n",
    "import numpy as np\n",
    "from datetime import datetime\n",
    "website = 'http://covid.gov.pk/intl_travellers/flight_info'\n",
    "cxn = sqlite3.connect(\"flights.db\")\n"
   ]
  },
  {
   "cell_type": "markdown",
   "metadata": {},
   "source": [
    "## Checking the response from the website\n",
    "On successful return we will have soup object which will provide us with the data from the website."
   ]
  },
  {
   "cell_type": "code",
   "execution_count": 156,
   "metadata": {},
   "outputs": [],
   "source": [
    "page = requests.get(website)\n",
    "if page.status_code == 200:\n",
    "    soup = soup = BeautifulSoup(page.content, 'html.parser')\n",
    "else:\n",
    "    print(\"Error Page status:\", page.status_code)"
   ]
  },
  {
   "cell_type": "markdown",
   "metadata": {},
   "source": [
    "## Tables\n",
    "Bases on the struct of the website we get the 2 table that we need. They are named accordingly."
   ]
  },
  {
   "cell_type": "code",
   "execution_count": 157,
   "metadata": {},
   "outputs": [],
   "source": [
    "scheduled_flights = soup.find_all('table')[1]\n",
    "complted_flights = soup.find_all('table')[2]\n"
   ]
  },
  {
   "cell_type": "markdown",
   "metadata": {},
   "source": [
    "## Scheduled Flights table loop\n",
    "We skip the 1st row in the loop. This is the first complete in the data. It give use the following column names\n",
    "```\n",
    "['Sr #', 'From', 'Departure Airport', 'To', 'Arrival Date', 'Passengers', 'Airline']\n",
    "```\n",
    "Personal if you ask me they are kind of ugly. That is why you see an order write of the column with the varabile name `cols`\n",
    "\n",
    "## Status column\n",
    "Since we have open and close status in the name of the from_place. I wanted to put it in it's own column. If you some need's or if we might want to fliter the status of the closed scheduled flights"
   ]
  },
  {
   "cell_type": "code",
   "execution_count": 165,
   "metadata": {},
   "outputs": [
    {
     "name": "stdout",
     "output_type": "stream",
     "text": [
      "['Sr #', 'From', 'Departure Airport', 'To', 'Arrival Date', 'Passengers', 'Airline']\n"
     ]
    }
   ],
   "source": [
    "data = []\n",
    "for idx,tr in enumerate(scheduled_flights.find('tbody').find_all('tr')):\n",
    "    if idx == 0:\n",
    "        continue\n",
    "    row = [td.text.replace('\\n','').replace('\\t','').replace('\\r','').replace(' ','') for td in tr.find_all('td')]\n",
    "    row.append('open' if 'open' in row[1] else 'close' if 'close' in row[1] else np.nan)\n",
    "    data.append(row)\n",
    "\n",
    "cols = ['sr_no', 'from_place', 'departure_airport', 'to_place', 'arrival_date', 'passengers', 'airline', 'status']\n",
    "schedule = pd.DataFrame(data, columns=cols)\n",
    "# date format setting for the database\n",
    "schedule['arrival_date'] = pd.to_datetime(schedule['arrival_date']).dt.date\n",
    "schedule.to_sql('schedule', cxn, if_exists='replace', index=False)\n"
   ]
  },
  {
   "cell_type": "markdown",
   "metadata": {},
   "source": [
    "## Completed Flights\n",
    "We follow the same logic for completed flights table. We skip the same 1st row of the table as we did with the scheduled flights. But we have different number of columns for this table. Make sure you look at them."
   ]
  },
  {
   "cell_type": "code",
   "execution_count": 166,
   "metadata": {},
   "outputs": [
    {
     "name": "stdout",
     "output_type": "stream",
     "text": [
      "['Sr #', 'From', 'To', 'Date', 'Passengers', 'Airline']\n"
     ]
    }
   ],
   "source": [
    "data = []\n",
    "for idx,tr in enumerate(complted_flights.find('tbody').find_all('tr')):\n",
    "    if idx == 0:\n",
    "        continue\n",
    "    row = [td.text.replace('\\n','').replace('\\t','').replace('\\r','').replace(' ','') for td in tr.find_all('td')]\n",
    "    data.append(row)\n",
    "\n",
    "cols = ['sr_no', 'from_place', 'to_place', '_date', 'passengers', 'airline',]\n",
    "completed = pd.DataFrame(data, columns=cols)\n",
    "# date format setting for the database\n",
    "completed['_date'] = pd.to_datetime(completed['_date']).dt.date\n",
    "completed.to_sql('completed', cxn, if_exists='replace', index=False)\n",
    "\n"
   ]
  },
  {
   "cell_type": "markdown",
   "metadata": {},
   "source": [
    "## Getting the Province, cities and population info from Wikipedia for Pakistan\n",
    "I got this information because I want to see the flights based on provinces. This information is not avilabile in the orignal table."
   ]
  },
  {
   "cell_type": "code",
   "execution_count": 167,
   "metadata": {},
   "outputs": [],
   "source": [
    "pak_loc = 'https://en.wikipedia.org/wiki/List_of_cities_in_Pakistan'\n",
    "page = requests.get(pak_loc)\n",
    "if page.status_code == 200:\n",
    "    soup = soup = BeautifulSoup(page.content, 'html.parser')\n",
    "else:\n",
    "    print(\"Error Page status:\", page.status_code)"
   ]
  },
  {
   "cell_type": "markdown",
   "metadata": {},
   "source": [
    "## Getting Provinces and cities of pakistan"
   ]
  },
  {
   "cell_type": "code",
   "execution_count": 261,
   "metadata": {},
   "outputs": [],
   "source": [
    "data = []\n",
    "for x in soup.find_all('table', {'class': 'wikitable'}):\n",
    "    provice = ''\n",
    "    _type = ''\n",
    "    if 'Balochistan' in x.find('th').text:\n",
    "        provice = 'Balochistan'\n",
    "        if 'municipalities' in x.find('th').text:\n",
    "            _type = 'municipalities'\n",
    "        elif 'districts' in x.find('th').text:\n",
    "            _type = 'districts'\n",
    "    elif 'Khyber' in x.find('th').text:\n",
    "        provice = 'Khyber'\n",
    "        if 'municipalities' in x.find('th').text:\n",
    "            _type = 'municipalities'\n",
    "        elif 'districts' in x.find('th').text:\n",
    "            _type = 'districts'\n",
    "    elif 'Punjab' in x.find('th').text:\n",
    "        provice = 'Punjab'\n",
    "        if 'municipalities' in x.find('th').text:\n",
    "            _type = 'municipalities'\n",
    "        elif 'districts' in x.find('th').text:\n",
    "            _type = 'districts'\n",
    "    elif 'Sindh' in x.find('th').text:\n",
    "        provice = 'Sindh'\n",
    "        if 'municipalities' in x.find('th').text:\n",
    "            _type = 'municipalities'\n",
    "        elif 'districts' in x.find('th').text:\n",
    "            _type = 'districts'\n",
    "    elif 'Kashmir' in x.find('th').text:\n",
    "        provice = 'Kashmir'\n",
    "        if 'municipalities' in x.find('th').text:\n",
    "            _type = 'municipalities'\n",
    "        elif 'districts' in x.find('th').text:\n",
    "            _type = 'districts'\n",
    "    elif 'Capital' in x.find('th').text:\n",
    "        provice = 'Punjab'\n",
    "        _type = 'municipalities'\n",
    "    elif 'Gilgit' in x.find('th').text:\n",
    "        provice = 'Gilgit'\n",
    "        if 'municipalities' in x.find('th').text:\n",
    "            _type = 'municipalities'\n",
    "        elif 'districts' in x.find('th').text:\n",
    "            _type = 'districts'\n",
    "    \n",
    "    population = x.find('tbody').find_all('tr')[3]\n",
    "    names = x.find('tbody').find_all('tr')[2]\n",
    "    for name, pop in zip(names.find_all('td'), population.find_all('td')):\n",
    "        data.append({\n",
    "            'provice': provice,\n",
    "            '_type': _type,\n",
    "            'city': name.text[:-6],\n",
    "            'population': pop.text.replace('\\n','').replace(',','')\n",
    "        })\n",
    "\n",
    "pak = pd.DataFrame(data)\n",
    "pak.to_sql('pakistan', cxn, if_exists='replace', index=False)"
   ]
  },
  {
   "cell_type": "markdown",
   "metadata": {},
   "source": [
    "## Get CSVs"
   ]
  },
  {
   "cell_type": "code",
   "execution_count": 275,
   "metadata": {},
   "outputs": [
    {
     "name": "stdout",
     "output_type": "stream",
     "text": [
      "schedule.csv created\n",
      "completed.csv created\n",
      "pakistan.csv created\n"
     ]
    }
   ],
   "source": [
    "def sql_fetch(con):\n",
    "\n",
    "    cursorObj = con.cursor()\n",
    "\n",
    "    cursorObj.execute('SELECT name from sqlite_master where type= \"table\"')\n",
    "\n",
    "    return cursorObj.fetchall()\n",
    "\n",
    "for x in sql_fetch(cxn):\n",
    "    filename = f\"{x[0]}.csv\"\n",
    "    df = pd.read_sql(f\"select * from {x[0]}\", cxn)\n",
    "    df.to_csv(filename, index=False)\n",
    "    del df\n",
    "    print(filename, 'created')"
   ]
  }
 ],
 "metadata": {
  "kernelspec": {
   "display_name": "Python 3",
   "language": "python",
   "name": "python3"
  },
  "language_info": {
   "codemirror_mode": {
    "name": "ipython",
    "version": 3
   },
   "file_extension": ".py",
   "mimetype": "text/x-python",
   "name": "python",
   "nbconvert_exporter": "python",
   "pygments_lexer": "ipython3",
   "version": "3.8.2"
  }
 },
 "nbformat": 4,
 "nbformat_minor": 4
}
